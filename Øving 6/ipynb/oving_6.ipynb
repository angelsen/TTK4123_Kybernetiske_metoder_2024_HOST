{
 "cells": [
  {
   "cell_type": "markdown",
   "metadata": {},
   "source": [
    "<div style=\"text-align: center; font-weight: lighter;\">\n",
    "  <h1>Kinetikk</h1>\n",
    "  <div>Øving 6</div>\n",
    "  <div>TTK4123 Kybernetiske Metoder</div>\n",
    "</div>"
   ]
  },
  {
   "cell_type": "markdown",
   "metadata": {
    "vscode": {
     "languageId": "plaintext"
    }
   },
   "source": [
    "### Oppgave 1 (Dead-reckoning) \n",
    "\n",
    "<div style=\"text-align: center;\">\n",
    "    <img src=\"resources/oppgave_1_1.png\" alt=\"Oppgave 1_1 png\" width=\"30%\">\n",
    "</div>\n",
    "\n",
    "**$ S(\\omega) $:**\n",
    "\n",
    "<div style=\"text-align: center;\">\n",
    "    <img src=\"resources/oppgave_1_2.png\" alt=\"Oppgave 1_1 png\" width=\"30%\">\n",
    "</div>\n",
    "\n",
    "**$ R_0 $:**\n",
    "\n",
    "<div style=\"text-align: center;\">\n",
    "    <img src=\"resources/oppgave_1_3.png\" alt=\"Oppgave 1_1 png\" width=\"30%\">\n",
    "</div>"
   ]
  },
  {
   "cell_type": "markdown",
   "metadata": {},
   "source": [
    "<div style=\"page-break-before: always;\"></div>\n",
    "\n",
    "### Oppgave 2 (Råkjøring)\n",
    "\n",
    "<div style=\"text-align: center; background-color: white;\">\n",
    "    <img src=\"resources/oppgave_2.svg\" alt=\"Oppgave 2 SVG\">\n",
    "</div>"
   ]
  },
  {
   "cell_type": "code",
   "execution_count": 1,
   "metadata": {},
   "outputs": [
    {
     "data": {
      "text/latex": [
       "$\\displaystyle m \\left(- R \\omega^{2} + g\\right)$"
      ],
      "text/plain": [
       "m*(-R*\\omega**2 + g)"
      ]
     },
     "metadata": {},
     "output_type": "display_data"
    },
    {
     "name": "stdout",
     "output_type": "stream",
     "text": [
      "250.00%\n"
     ]
    }
   ],
   "source": [
    "import sympy as sp\n",
    "\n",
    "m, g, omega, R = sp.symbols(R\"m g \\omega R\")\n",
    "\n",
    "v = 50\n",
    "\n",
    "def vec(*args):\n",
    "    return sp.Matrix(args)\n",
    "\n",
    "f = m * (vec(0, 0, g) + vec(0, omega, 0).cross(vec(0, omega, 0).cross(vec(0, 0, R))))\n",
    "\n",
    "f_3 = f[2]\n",
    "display(f_3)\n",
    "\n",
    "prosent_lettere = (1 - f_3 / (m * g)) * 100\n",
    "prosent_lettere = sp.simplify(prosent_lettere)\n",
    "\n",
    "numerisk_verdi = prosent_lettere.subs({omega: v / 100, R: 100, g: 10})\n",
    "print(f\"{numerisk_verdi.evalf():.2f}%\")"
   ]
  },
  {
   "cell_type": "markdown",
   "metadata": {},
   "source": [
    "<div style=\"page-break-before: always;\"></div>\n",
    "\n",
    "### Oppgave 3 (Ubalanse)"
   ]
  },
  {
   "cell_type": "code",
   "execution_count": 2,
   "metadata": {},
   "outputs": [
    {
     "name": "stdout",
     "output_type": "stream",
     "text": [
      "Massemidtpunkt:\n"
     ]
    },
    {
     "data": {
      "text/latex": [
       "$\\displaystyle \\left[\\begin{matrix}- \\frac{1}{3}\\\\0\\\\0\\end{matrix}\\right]$"
      ],
      "text/plain": [
       "Matrix([\n",
       "[-1/3],\n",
       "[   0],\n",
       "[   0]])"
      ]
     },
     "metadata": {},
     "output_type": "display_data"
    },
    {
     "name": "stdout",
     "output_type": "stream",
     "text": [
      "Treghetsmomentmatrise:\n"
     ]
    },
    {
     "data": {
      "text/latex": [
       "$\\displaystyle \\left[\\begin{matrix}0 & 0 & 0\\\\0 & 3 & 0\\\\0 & 0 & 3\\end{matrix}\\right]$"
      ],
      "text/plain": [
       "Matrix([\n",
       "[0, 0, 0],\n",
       "[0, 3, 0],\n",
       "[0, 0, 3]])"
      ]
     },
     "metadata": {},
     "output_type": "display_data"
    }
   ],
   "source": [
    "import sympy as sp\n",
    "\n",
    "m1, m2 = 1, 2  # Masser i kg\n",
    "\n",
    "p1 = sp.Matrix([1, 0, 0])   # Posisjon til masse m1\n",
    "p2 = sp.Matrix([-1, 0, 0])  # Posisjon til masse m2\n",
    "\n",
    "M = m1 + m2\n",
    "\n",
    "x_kule = (m1 * p1 + m2 * p2) / M\n",
    "x_kule = sp.simplify(x_kule)\n",
    "\n",
    "S1 = p1.hat()\n",
    "S2 = p2.hat()\n",
    "\n",
    "J1 = -m1 * (S1 * S1)\n",
    "J2 = -m2 * (S2 * S2)\n",
    "\n",
    "J = J1 + J2\n",
    "J = sp.simplify(J)\n",
    "\n",
    "print(\"Massemidtpunkt:\")\n",
    "display(x_kule)\n",
    "\n",
    "print(\"Treghetsmomentmatrise:\")\n",
    "display(J)\n"
   ]
  },
  {
   "cell_type": "markdown",
   "metadata": {},
   "source": [
    "<div style=\"page-break-before: always;\"></div>\n",
    "\n",
    "### Oppgave 4 (Kinetisk energi)\n",
    "\n",
    "<div style=\"text-align: center; background-color: white;\">\n",
    "    <img src=\"resources/oppgave_4.svg\" alt=\"Oppgave 4 SVG\">\n",
    "</div>"
   ]
  },
  {
   "cell_type": "markdown",
   "metadata": {},
   "source": [
    "<div style=\"page-break-before: always;\"></div>\n",
    "\n",
    "### Oppgave 5 (Presesjon)"
   ]
  },
  {
   "cell_type": "code",
   "execution_count": 3,
   "metadata": {},
   "outputs": [
    {
     "data": {
      "text/latex": [
       "$\\displaystyle \\left[\\begin{matrix}- \\Omega \\omega_{2}\\\\\\Omega \\omega_{1}\\end{matrix}\\right]$"
      ],
      "text/plain": [
       "Matrix([\n",
       "[-Omega*\\omega_2],\n",
       "[ Omega*\\omega_1]])"
      ]
     },
     "metadata": {},
     "output_type": "display_data"
    }
   ],
   "source": [
    "import sympy as sp\n",
    "\n",
    "omega_1, omega_2, omega_3 = sp.symbols(R'\\omega_1 \\omega_2 \\omega_3')\n",
    "\n",
    "dot_omega_1, dot_omega_2, dot_omega_3 = sp.symbols(R'\\dot{\\omega}_1 \\dot{\\omega}_2 \\dot{\\omega}_3')\n",
    "\n",
    "M, R = sp.symbols('M R')\n",
    "\n",
    "J = M * (R / 2)**2 * sp.Matrix([[1, 0, 0],\n",
    "                                [0, 1, 0],\n",
    "                                [0, 0, 2]])\n",
    "\n",
    "omega = sp.Matrix([omega_1, omega_2, omega_3])\n",
    "dot_omega = sp.Matrix([dot_omega_1, dot_omega_2, dot_omega_3])\n",
    "\n",
    "T1, T2, T3 = sp.symbols('T_1 T_2 T_3')\n",
    "torque = sp.Matrix([T1, T2, T3])\n",
    "\n",
    "S_omega = omega.hat()\n",
    "\n",
    "euler_eq = J * dot_omega + S_omega * J * omega - torque\n",
    "\n",
    "Omega = sp.symbols('Omega')\n",
    "euler_eq = euler_eq.subs({T1: 0, T2: 0, T3: 0, omega_3: Omega})\n",
    "\n",
    "euler_eq_solution = sp.solve(euler_eq, [dot_omega_1, dot_omega_2])\n",
    "\n",
    "euler_eq_solution_matrix = sp.Matrix([euler_eq_solution[dot_omega_1], euler_eq_solution[dot_omega_2]])\n",
    "display(euler_eq_solution_matrix)"
   ]
  },
  {
   "cell_type": "markdown",
   "metadata": {},
   "source": [
    "<div style=\"text-align: center; background-color: white;\">\n",
    "    <img src=\"resources/oppgave_5.svg\" alt=\"Oppgave 5 SVG\">\n",
    "</div>"
   ]
  },
  {
   "cell_type": "markdown",
   "metadata": {},
   "source": [
    "<div style=\"page-break-before: always;\"></div>\n",
    "\n",
    "### Oppgave 6\n",
    "\n",
    "<div style=\"text-align: center; background-color: white;\">\n",
    "    <img src=\"resources/oppgave_6.svg\" alt=\"Oppgave 6 SVG\">\n",
    "</div>"
   ]
  },
  {
   "cell_type": "markdown",
   "metadata": {},
   "source": [
    "Dette viser at når rotasjonshastigheten $ \\Omega $ øker, blir $ \\omega_{\\perp} $ (responsen på et gitt dreiemoment $ T_{\\perp} $) mindre."
   ]
  }
 ],
 "metadata": {
  "kernelspec": {
   "display_name": ".venv",
   "language": "python",
   "name": "python3"
  },
  "language_info": {
   "codemirror_mode": {
    "name": "ipython",
    "version": 3
   },
   "file_extension": ".py",
   "mimetype": "text/x-python",
   "name": "python",
   "nbconvert_exporter": "python",
   "pygments_lexer": "ipython3",
   "version": "3.12.7"
  }
 },
 "nbformat": 4,
 "nbformat_minor": 2
}
